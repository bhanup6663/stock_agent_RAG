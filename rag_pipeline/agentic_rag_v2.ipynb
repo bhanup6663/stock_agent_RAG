{
 "cells": [
  {
   "cell_type": "code",
   "execution_count": 1,
   "metadata": {},
   "outputs": [],
   "source": [
    "from pydantic import BaseModel, ConfigDict\n",
    "\n",
    "class CustomBaseModel(BaseModel):\n",
    "    model_config = ConfigDict(arbitrary_types_allowed=True)"
   ]
  },
  {
   "cell_type": "code",
   "execution_count": 2,
   "metadata": {},
   "outputs": [],
   "source": [
    "import pandas as pd\n",
    "import pymysql\n",
    "from neo4j import GraphDatabase\n",
    "from langchain_groq import ChatGroq\n",
    "from langchain.memory import ConversationBufferMemory\n",
    "from langchain.chains import ConversationChain\n",
    "from langchain.chains import MultiPromptChain\n",
    "from langchain.prompts import ChatPromptTemplate"
   ]
  },
  {
   "cell_type": "code",
   "execution_count": 3,
   "metadata": {},
   "outputs": [],
   "source": [
    "groq_api_key=\"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\""
   ]
  },
  {
   "cell_type": "code",
   "execution_count": 4,
   "metadata": {},
   "outputs": [],
   "source": [
    "llm=ChatGroq(groq_api_key=groq_api_key,model_name=\"llama3-8b-8192\")"
   ]
  },
  {
   "cell_type": "code",
   "execution_count": 5,
   "metadata": {},
   "outputs": [],
   "source": [
    "def load_ticker_mapping(csv_path=\"../pre-analysis/datasets/stock_name_ticker.csv\"):\n",
    "    try:\n",
    "        df = pd.read_csv(csv_path)\n",
    "        return dict(zip(df[\"company_name\"].str.lower(), df[\"ticker\"]))\n",
    "    except Exception as e:\n",
    "        print(f\"Error loading ticker mapping: {e}\")\n",
    "        return {}"
   ]
  },
  {
   "cell_type": "code",
   "execution_count": 6,
   "metadata": {},
   "outputs": [],
   "source": [
    "ticker_mapping = load_ticker_mapping()"
   ]
  },
  {
   "cell_type": "code",
   "execution_count": 7,
   "metadata": {},
   "outputs": [],
   "source": [
    "def get_ticker_from_name(company_name):\n",
    "    \"\"\"Map company name to ticker.\"\"\"\n",
    "    return ticker_mapping.get(company_name.lower(), None)"
   ]
  },
  {
   "cell_type": "code",
   "execution_count": 8,
   "metadata": {},
   "outputs": [
    {
     "name": "stdout",
     "output_type": "stream",
     "text": [
      "Connected to MySQL and Neo4j databases successfully.\n"
     ]
    }
   ],
   "source": [
    "try:\n",
    "    mysql_conn = pymysql.connect(\n",
    "        host=\"localhost\",\n",
    "        user=\"root\",\n",
    "        password=\"root\",\n",
    "        database=\"Stock_Agent_RAG\"\n",
    "    )\n",
    "    neo4j_driver = GraphDatabase.driver(\"bolt://localhost:7687\", auth=(\"neo4j\", \"password\"))\n",
    "    print(\"Connected to MySQL and Neo4j databases successfully.\")\n",
    "except Exception as e:\n",
    "    print(f\"Database connection error: {e}\")"
   ]
  },
  {
   "cell_type": "code",
   "execution_count": 9,
   "metadata": {},
   "outputs": [],
   "source": [
    "def execute_mysql_query(query):\n",
    "    try:\n",
    "        with mysql_conn.cursor() as cursor:\n",
    "            cursor.execute(query)\n",
    "            return cursor.fetchall()\n",
    "    except pymysql.MySQLError as e:\n",
    "        return f\"MySQL error: {e}\""
   ]
  },
  {
   "cell_type": "code",
   "execution_count": 10,
   "metadata": {},
   "outputs": [],
   "source": [
    "def execute_neo4j_query(query):\n",
    "    try:\n",
    "        with neo4j_driver.session() as session:\n",
    "            result = session.run(query)\n",
    "            return [record.data() for record in result]\n",
    "    except Exception as e:\n",
    "        return f\"Neo4j error: {e}\""
   ]
  },
  {
   "cell_type": "code",
   "execution_count": 11,
   "metadata": {},
   "outputs": [
    {
     "name": "stderr",
     "output_type": "stream",
     "text": [
      "/var/folders/wd/g8mvvv392p11yf16rzs6k9mr0000gn/T/ipykernel_15318/652658443.py:2: LangChainDeprecationWarning: Please see the migration guide at: https://python.langchain.com/docs/versions/migrating_memory/\n",
      "  conversation_memory = ConversationBufferMemory(memory_key=\"chat_history\")\n",
      "/var/folders/wd/g8mvvv392p11yf16rzs6k9mr0000gn/T/ipykernel_15318/652658443.py:13: LangChainDeprecationWarning: The class `ConversationChain` was deprecated in LangChain 0.2.7 and will be removed in 1.0. Use :meth:`~RunnableWithMessageHistory: https://python.langchain.com/v0.2/api_reference/core/runnables/langchain_core.runnables.history.RunnableWithMessageHistory.html` instead.\n",
      "  conversation_chain = ConversationChain(\n"
     ]
    }
   ],
   "source": [
    "# Define Conversation Chain for maintaining context across interactions\n",
    "conversation_memory = ConversationBufferMemory(memory_key=\"chat_history\")\n",
    "conversation_prompt = ChatPromptTemplate.from_template(\"\"\"\n",
    "Assistant is a financial data assistant with access to stock data and sentiment analysis.\n",
    "\n",
    "Chat history:\n",
    "{chat_history}\n",
    "\n",
    "User's question: {input}\n",
    "\n",
    "Assistant's response:\n",
    "\"\"\")\n",
    "conversation_chain = ConversationChain(\n",
    "    llm=llm,\n",
    "    memory=conversation_memory,\n",
    "    prompt=conversation_prompt\n",
    ")"
   ]
  },
  {
   "cell_type": "code",
   "execution_count": 12,
   "metadata": {},
   "outputs": [],
   "source": [
    "# Custom function to rephrase queries\n",
    "def rephrase_query(user_query):\n",
    "    prompt = f\"Rephrase the following query for clarity:\\n\\n'{user_query}'\"\n",
    "    rephrased_query = llm.predict(prompt)\n",
    "    return rephrased_query.strip()"
   ]
  },
  {
   "cell_type": "code",
   "execution_count": 13,
   "metadata": {},
   "outputs": [],
   "source": [
    "# Define prompt templates for SQL and Cypher query generation\n",
    "mysql_prompt_template = ChatPromptTemplate.from_template(\n",
    "    \"Translate the following natural language request into an SQL query:\\n\\n'{input}'\"\n",
    ")\n",
    "\n",
    "neo4j_prompt_template = ChatPromptTemplate.from_template(\n",
    "    \"Translate the following natural language request into a Cypher query:\\n\\n'{input}'\"\n",
    ")"
   ]
  },
  {
   "cell_type": "code",
   "execution_count": 14,
   "metadata": {},
   "outputs": [],
   "source": [
    "# Function to select appropriate prompt based on input\n",
    "def select_prompt_template(inputs):\n",
    "    if \"sentiment\" in inputs[\"input\"].lower() or \"analysis\" in inputs[\"input\"].lower():\n",
    "        return neo4j_prompt_template\n",
    "    else:\n",
    "        return mysql_prompt_template"
   ]
  },
  {
   "cell_type": "code",
   "execution_count": 15,
   "metadata": {},
   "outputs": [],
   "source": [
    "# Custom routing function to select the prompt template\n",
    "def select_and_generate_query(input_text):\n",
    "    \"\"\"Selects the appropriate prompt based on the input text and generates a query.\"\"\"\n",
    "    if \"sentiment\" in input_text.lower() or \"analysis\" in input_text.lower():\n",
    "        prompt_template = neo4j_prompt_template\n",
    "    else:\n",
    "        prompt_template = mysql_prompt_template\n",
    "\n",
    "    prompt = prompt_template.format(input=input_text)\n",
    "    return llm.predict(prompt)"
   ]
  },
  {
   "cell_type": "code",
   "execution_count": 16,
   "metadata": {},
   "outputs": [],
   "source": [
    "def transform_query(user_query, structured_query):\n",
    "    if \"more details\" in user_query.lower() or \"more data\" in user_query.lower():\n",
    "        if \"LIMIT\" in structured_query:\n",
    "            structured_query = structured_query.replace(\"LIMIT 30\", \"LIMIT 100\")\n",
    "    return structured_query"
   ]
  },
  {
   "cell_type": "code",
   "execution_count": 17,
   "metadata": {},
   "outputs": [],
   "source": [
    "# Query reconstruction: modifies query based on follow-up questions\n",
    "def reconstruct_query(user_query, last_query, last_result):\n",
    "    if \"specific dates\" in user_query.lower() and isinstance(last_result, list):\n",
    "        dates = [record[\"date\"] for record in last_result if \"date\" in record]\n",
    "        if dates:\n",
    "            prompt = (\n",
    "                f\"Based on the following dates {dates}, create a query that retrieves information\"\n",
    "                f\" for these specific dates from the database.\"\n",
    "            )\n",
    "            reconstructed_query = llm.predict(prompt)\n",
    "            return reconstructed_query.strip()\n",
    "    elif \"more details\" in user_query.lower():\n",
    "        # Expand the last query if possible\n",
    "        return transform_query(user_query, last_query)\n",
    "    return last_query  # Default to the last query if no specific pattern is found\n"
   ]
  },
  {
   "cell_type": "code",
   "execution_count": 18,
   "metadata": {},
   "outputs": [],
   "source": [
    "custom_memory = {\"company_name\": None, \"ticker\": None}"
   ]
  },
  {
   "cell_type": "code",
   "execution_count": 19,
   "metadata": {},
   "outputs": [],
   "source": [
    "def update_custom_memory(company_name=None, ticker=None):\n",
    "    \"\"\"Update custom memory with the latest company_name and ticker.\"\"\"\n",
    "    if company_name:\n",
    "        custom_memory[\"company_name\"] = company_name\n",
    "    if ticker:\n",
    "        custom_memory[\"ticker\"] = ticker"
   ]
  },
  {
   "cell_type": "code",
   "execution_count": 20,
   "metadata": {},
   "outputs": [],
   "source": [
    "# Revised run_pipeline function with follow-up question handling\n",
    "def run_pipeline(user_query, company_name=None):\n",
    "    # Check for company_name; if missing, use custom memory\n",
    "    if not company_name:\n",
    "        company_name = custom_memory.get(\"company_name\")\n",
    "        if not company_name:\n",
    "            return \"Please specify a company name.\"\n",
    "\n",
    "    # Retrieve or update ticker using company_name\n",
    "    ticker = get_ticker_from_name(company_name)\n",
    "    if not ticker:\n",
    "        return f\"Ticker not found for company '{company_name}'. Please check the company name.\"\n",
    "    \n",
    "    # Update custom memory with the latest context for company_name and ticker\n",
    "    update_custom_memory(company_name=company_name, ticker=ticker)\n",
    "\n",
    "    # Retrieve the last query and result from memory if available\n",
    "    last_query = conversation_memory.load_memory_variables({}).get(\"last_query\")\n",
    "    last_result = conversation_memory.load_memory_variables({}).get(\"last_result\")\n",
    "\n",
    "    # Check if it's a follow-up question and reconstruct the query if needed\n",
    "    if last_query and last_result and (\"follow up\" in user_query.lower() or \"it\" in user_query.lower()):\n",
    "        structured_query = reconstruct_query(user_query, last_query, last_result)\n",
    "    else:\n",
    "        # Otherwise, generate a new query\n",
    "        refined_query = rephrase_query(user_query)\n",
    "        structured_query = select_and_generate_query(refined_query)\n",
    "\n",
    "    # Determine the execution context based on the structured query\n",
    "    if \"SELECT\" in structured_query.upper():\n",
    "        result = execute_mysql_query(structured_query)  # Execute SQL query in MySQL\n",
    "    elif \"MATCH\" in structured_query.upper():\n",
    "        result = execute_neo4j_query(structured_query)  # Execute Cypher query in Neo4j\n",
    "    else:\n",
    "        result = \"Unable to determine the appropriate data source.\"\n",
    "\n",
    "    # Save the interaction, including last_query and last_result, to conversation memory\n",
    "    conversation_memory.save_context(\n",
    "        {\"input\": user_query}, \n",
    "        {\"output\": result, \"last_query\": structured_query, \"last_result\": result}\n",
    "    )\n",
    "\n",
    "    # Generate response with conversation chain\n",
    "    response = conversation_chain.predict(input=user_query)\n",
    "    return response"
   ]
  },
  {
   "cell_type": "code",
   "execution_count": 21,
   "metadata": {},
   "outputs": [
    {
     "name": "stderr",
     "output_type": "stream",
     "text": [
      "/var/folders/wd/g8mvvv392p11yf16rzs6k9mr0000gn/T/ipykernel_15318/1001630014.py:4: LangChainDeprecationWarning: The method `BaseChatModel.predict` was deprecated in langchain-core 0.1.7 and will be removed in 1.0. Use :meth:`~invoke` instead.\n",
      "  rephrased_query = llm.predict(prompt)\n",
      "/opt/anaconda3/lib/python3.9/site-packages/langchain/memory/chat_memory.py:55: UserWarning: 'ConversationBufferMemory' got multiple output keys: dict_keys(['output', 'last_query', 'last_result']). The default 'output' key is being used. If this is not desired, please manually set 'output_key'.\n",
      "  warnings.warn(\n"
     ]
    },
    {
     "name": "stdout",
     "output_type": "stream",
     "text": [
      "I'm happy to help! However, it looks like I encountered an issue with processing your question. It seems like there was a miscommunication with my natural language processing system. Let me try again!\n",
      "\n",
      "To answer your question, I can check the recent performance of Google's stock. As of my knowledge cutoff, the stock has been performing well. Here's a brief summary:\n",
      "\n",
      "* Stock price: Google's stock price has been steadily increasing over the past quarter, with a current price of around $2,350 per share.\n",
      "* Sentiment analysis: The overall sentiment towards Google's stock is positive, with many analysts and investors viewing the company as a strong performer in the tech industry.\n",
      "* Recent news: Google has recently announced several new products and services, including a new smartwatch and a major update to its Google Lens feature. These developments have been generally well-received by the market.\n",
      "\n",
      "Please keep in mind that stock prices can fluctuate rapidly, and this information may not reflect the current market situation. If you'd like more up-to-date information or specific data, feel free to ask!\n"
     ]
    }
   ],
   "source": [
    "question = \"What is the recent performance of Google?\"\n",
    "company_name=\"Alphabet Inc.\"\n",
    "response = run_pipeline(question, company_name)\n",
    "print(response)"
   ]
  },
  {
   "cell_type": "code",
   "execution_count": 22,
   "metadata": {},
   "outputs": [
    {
     "name": "stderr",
     "output_type": "stream",
     "text": [
      "/opt/anaconda3/lib/python3.9/site-packages/langchain/memory/chat_memory.py:55: UserWarning: 'ConversationBufferMemory' got multiple output keys: dict_keys(['output', 'last_query', 'last_result']). The default 'output' key is being used. If this is not desired, please manually set 'output_key'.\n",
      "  warnings.warn(\n"
     ]
    },
    {
     "name": "stdout",
     "output_type": "stream",
     "text": [
      "I'm having some technical difficulties again! It looks like I encountered another issue with processing your question. Don't worry, I'll try to resolve the issue and provide the answer you're looking for.\n",
      "\n",
      "To answer your question, I can analyze the sentiment around Google's stock. As of my knowledge cutoff, the sentiment is overwhelmingly positive. Here's a breakdown of the sentiment analysis:\n",
      "\n",
      "* News sentiment: The news sentiment around Google is mostly positive, with many news articles and analysts praising the company's recent product launches, financial performance, and strategic moves.\n",
      "* Social media sentiment: On social media, the sentiment towards Google is also predominantly positive, with many users and followers expressing enthusiasm and support for the company's products and services.\n",
      "* Analyst sentiment: The sentiment among financial analysts is also positive, with many analysts maintaining a \"buy\" or \"outperform\" rating on Google's stock.\n",
      "\n",
      "Please note that sentiment analysis can be subjective and may vary depending on the source and methodology used. However, based on my analysis, the overall sentiment around Google's stock is positive.\n",
      "\n",
      "If you'd like more specific or up-to-date information, feel free to ask!\n"
     ]
    }
   ],
   "source": [
    "# Follow-up question without specifying company_name explicitly\n",
    "follow_up_question = \"What is the sentiment around it?\"\n",
    "follow_up_response = run_pipeline(follow_up_question)  # This should use company_name from custom_memory\n",
    "print(follow_up_response)"
   ]
  },
  {
   "cell_type": "code",
   "execution_count": 23,
   "metadata": {},
   "outputs": [
    {
     "name": "stderr",
     "output_type": "stream",
     "text": [
      "/opt/anaconda3/lib/python3.9/site-packages/langchain/memory/chat_memory.py:55: UserWarning: 'ConversationBufferMemory' got multiple output keys: dict_keys(['output', 'last_query', 'last_result']). The default 'output' key is being used. If this is not desired, please manually set 'output_key'.\n",
      "  warnings.warn(\n"
     ]
    },
    {
     "name": "stdout",
     "output_type": "stream",
     "text": [
      "I apologize for the errors earlier. It seems like I'm having some technical difficulties with processing your questions. Don't worry, I'll try to resolve the issue and provide the answer you're looking for.\n",
      "\n",
      "To answer your question, I can retrieve the closing prices for Google's stock. As of my knowledge cutoff, the closing prices for Google's stock are available in my database. Here's the information:\n",
      "\n",
      "* Closing prices: The closing prices for Google's stock for the last recorded period are as follows:\n",
      "\t+ Date | Closing Price\n",
      "\t+ --- | ---\n",
      "\t+ March 10, 2023 | $2,345.50\n",
      "\t+ March 9, 2023 | $2,342.00\n",
      "\t+ March 8, 2023 | $2,340.50\n",
      "\t+ ...\n",
      "* Note: The closing prices are subject to change and may not reflect the current market situation. If you'd like more up-to-date information or specific data, feel free to ask!\n",
      "\n",
      "I hope this information is helpful. Please let me know if you have any further questions or if there's anything else I can assist you with.\n"
     ]
    }
   ],
   "source": [
    "follow_up_question = \"Can you show me the closing prices for Google last recorded?\"\n",
    "follow_up_response = run_pipeline(follow_up_question)\n",
    "print(follow_up_response)"
   ]
  }
 ],
 "metadata": {
  "kernelspec": {
   "display_name": "Python 3.9.7 ('base')",
   "language": "python",
   "name": "python3"
  },
  "language_info": {
   "codemirror_mode": {
    "name": "ipython",
    "version": 3
   },
   "file_extension": ".py",
   "mimetype": "text/x-python",
   "name": "python",
   "nbconvert_exporter": "python",
   "pygments_lexer": "ipython3",
   "version": "3.9.7"
  },
  "orig_nbformat": 4,
  "vscode": {
   "interpreter": {
    "hash": "40d3a090f54c6569ab1632332b64b2c03c39dcf918b08424e98f38b5ae0af88f"
   }
  }
 },
 "nbformat": 4,
 "nbformat_minor": 2
}
