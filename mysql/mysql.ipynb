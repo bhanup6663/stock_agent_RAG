{
 "cells": [
  {
   "cell_type": "code",
   "execution_count": 1,
   "metadata": {},
   "outputs": [],
   "source": [
    "import pymysql\n",
    "import pandas as pd"
   ]
  },
  {
   "cell_type": "code",
   "execution_count": 2,
   "metadata": {},
   "outputs": [],
   "source": [
    "# Database connection parameters\n",
    "host = \"localhost\"\n",
    "user = \"root\"\n",
    "password = \"root\"\n",
    "database = \"Stock_Agent_RAG\"  "
   ]
  },
  {
   "cell_type": "code",
   "execution_count": 3,
   "metadata": {},
   "outputs": [],
   "source": [
    "connection = pymysql.connect(host=host, user=user, password=password, database=database)\n",
    "cursor = connection.cursor()"
   ]
  },
  {
   "cell_type": "code",
   "execution_count": 4,
   "metadata": {},
   "outputs": [],
   "source": [
    "connection.select_db(database)"
   ]
  },
  {
   "cell_type": "code",
   "execution_count": 5,
   "metadata": {},
   "outputs": [],
   "source": [
    "# Step 3: Create Table\n",
    "create_table_query = \"\"\"\n",
    "CREATE TABLE IF NOT EXISTS stock_data (\n",
    "    date DATE,\n",
    "    name VARCHAR(255),\n",
    "    open FLOAT,\n",
    "    high FLOAT,\n",
    "    low FLOAT,\n",
    "    close FLOAT,\n",
    "    close_adj FLOAT,\n",
    "    volume BIGINT,\n",
    "    source VARCHAR(255),\n",
    "    PRIMARY KEY (date, name)\n",
    ");\n",
    "\"\"\""
   ]
  },
  {
   "cell_type": "code",
   "execution_count": 6,
   "metadata": {},
   "outputs": [
    {
     "name": "stdout",
     "output_type": "stream",
     "text": [
      "Table 'stock_data' created successfully or already exists.\n"
     ]
    }
   ],
   "source": [
    "try:\n",
    "    cursor.execute(create_table_query)\n",
    "    print(\"Table 'stock_data' created successfully or already exists.\")\n",
    "except pymysql.Error as e:\n",
    "    print(f\"Error creating table: {e}\")"
   ]
  },
  {
   "cell_type": "code",
   "execution_count": 7,
   "metadata": {},
   "outputs": [
    {
     "name": "stdout",
     "output_type": "stream",
     "text": [
      "CSV file loaded successfully.\n"
     ]
    }
   ],
   "source": [
    "# Step 4: Load Data from CSV into DataFrame\n",
    "csv_file_path = \"./datasets/processed_stock_dataset.csv\"\n",
    "try:\n",
    "    df = pd.read_csv(csv_file_path)\n",
    "    print(\"CSV file loaded successfully.\")\n",
    "except Exception as e:\n",
    "    print(f\"Error reading CSV file: {e}\")"
   ]
  },
  {
   "cell_type": "code",
   "execution_count": 10,
   "metadata": {},
   "outputs": [
    {
     "data": {
      "text/plain": [
       "Index(['Unnamed: 0', 'date', 'Name', 'open', 'high', 'low', 'close',\n",
       "       'adj_close', 'volume', 'source'],\n",
       "      dtype='object')"
      ]
     },
     "execution_count": 10,
     "metadata": {},
     "output_type": "execute_result"
    }
   ],
   "source": [
    "df.columns"
   ]
  },
  {
   "cell_type": "code",
   "execution_count": 8,
   "metadata": {},
   "outputs": [],
   "source": [
    "insert_query = \"\"\"\n",
    "INSERT INTO stock_data (date, name, open, high, low, close, close_adj, volume, source)\n",
    "VALUES (%s, %s, %s, %s, %s, %s, %s, %s, %s)\n",
    "\"\"\""
   ]
  },
  {
   "cell_type": "code",
   "execution_count": 11,
   "metadata": {},
   "outputs": [],
   "source": [
    "data_to_insert = [tuple(row) for row in df[['date', 'Name', 'open', 'high', 'low', 'close', 'adj_close', 'volume', 'source']].values]"
   ]
  },
  {
   "cell_type": "code",
   "execution_count": 12,
   "metadata": {},
   "outputs": [
    {
     "name": "stdout",
     "output_type": "stream",
     "text": [
      "[('2015-01-02', 'A', 0.01577829887519, 0.015821627143345, 0.0158938300056154, 0.0157213017422051, 0.0145045600680151, 0.0280609189705806, 'Yahoo Finance'), ('2015-01-02', 'AAL', 0.0207988402804839, 0.0209135116783038, 0.0208951099495741, 0.0208977562288033, 0.0198003905717361, 0.1972375056547101, 'Yahoo Finance'), ('2015-01-02', 'AAP', 0.0616415270480183, 0.0622539532843699, 0.0620079920294161, 0.0614757346626321, 0.0552978652891046, 0.0093548629945082, 'Yahoo Finance'), ('2015-01-02', 'AAPL', 0.0106686516705332, 0.0106684393465081, 0.0105647108448502, 0.0105923456158509, 0.0094451756087659, 1.0, 'Yahoo Finance'), ('2015-01-02', 'ABBV', 0.0250758835625526, 0.0254345249332999, 0.0257664361642724, 0.0255429943911946, 0.0168857851619289, 0.0933302641749084, 'Yahoo Finance')]\n"
     ]
    }
   ],
   "source": [
    "print(data_to_insert[:5])"
   ]
  },
  {
   "cell_type": "code",
   "execution_count": 13,
   "metadata": {},
   "outputs": [
    {
     "name": "stdout",
     "output_type": "stream",
     "text": [
      "Error inserting data: (1062, \"Duplicate entry '2015-01-02-AAL' for key 'stock_data.PRIMARY'\")\n"
     ]
    }
   ],
   "source": [
    "try:\n",
    "    cursor.executemany(insert_query, data_to_insert)\n",
    "    connection.commit()\n",
    "    print(\"Data inserted into 'stock_data' table successfully.\")\n",
    "except pymysql.Error as e:\n",
    "    print(f\"Error inserting data: {e}\")"
   ]
  },
  {
   "cell_type": "code",
   "execution_count": 14,
   "metadata": {},
   "outputs": [
    {
     "name": "stdout",
     "output_type": "stream",
     "text": [
      "Database connection closed.\n"
     ]
    }
   ],
   "source": [
    "cursor.close()\n",
    "connection.close()\n",
    "print(\"Database connection closed.\")"
   ]
  }
 ],
 "metadata": {
  "kernelspec": {
   "display_name": "Python 3.9.7 ('base')",
   "language": "python",
   "name": "python3"
  },
  "language_info": {
   "codemirror_mode": {
    "name": "ipython",
    "version": 3
   },
   "file_extension": ".py",
   "mimetype": "text/x-python",
   "name": "python",
   "nbconvert_exporter": "python",
   "pygments_lexer": "ipython3",
   "version": "3.9.7"
  },
  "orig_nbformat": 4,
  "vscode": {
   "interpreter": {
    "hash": "40d3a090f54c6569ab1632332b64b2c03c39dcf918b08424e98f38b5ae0af88f"
   }
  }
 },
 "nbformat": 4,
 "nbformat_minor": 2
}
