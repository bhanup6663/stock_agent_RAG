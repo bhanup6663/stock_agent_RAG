{
 "cells": [
  {
   "cell_type": "code",
   "execution_count": 1,
   "metadata": {},
   "outputs": [],
   "source": [
    "from neo4j import GraphDatabase\n",
    "import pandas as pd"
   ]
  },
  {
   "cell_type": "code",
   "execution_count": 2,
   "metadata": {},
   "outputs": [],
   "source": [
    "news_df = pd.read_csv('../../pre-analysis/datasets/news_with_sentiment.csv')"
   ]
  },
  {
   "cell_type": "code",
   "execution_count": 3,
   "metadata": {},
   "outputs": [],
   "source": [
    "# Connect to Neo4j\n",
    "uri = \"bolt://localhost:7687\"  \n",
    "username = \"neo4j\"\n",
    "password = \"password\"\n",
    "driver = GraphDatabase.driver(uri, auth=(username, password))"
   ]
  },
  {
   "cell_type": "code",
   "execution_count": 4,
   "metadata": {},
   "outputs": [],
   "source": [
    "# Function to create nodes and relationships\n",
    "def create_graph(tx, news_data):\n",
    "    for _, row in news_data.iterrows():\n",
    "        # Create Company Node\n",
    "        tx.run(\"MERGE (c:Company {name: $company})\", company=row['ticker'])\n",
    "\n",
    "        # Create NewsArticle Node\n",
    "        tx.run(\"\"\"\n",
    "            CREATE (n:NewsArticle {title: $title, date: $date, link: $link, sentiment: $sentiment})\n",
    "            \"\"\", title=row['title'], date=row['date'], link=row['link'], sentiment=row['sentiment'])\n",
    "\n",
    "        # Create Sentiment Node\n",
    "        tx.run(\"MERGE (s:Sentiment {type: $sentiment})\", sentiment=row['sentiment'])\n",
    "\n",
    "        # Create Relationships\n",
    "        tx.run(\"\"\"\n",
    "            MATCH (c:Company {name: $company}), (n:NewsArticle {title: $title}), (s:Sentiment {type: $sentiment})\n",
    "            CREATE (n)-[:RELATED_TO]->(c)\n",
    "            CREATE (n)-[:HAS_SENTIMENT]->(s)\n",
    "            \"\"\", company=row['ticker'], title=row['title'], sentiment=row['sentiment'])\n"
   ]
  },
  {
   "cell_type": "code",
   "execution_count": 5,
   "metadata": {},
   "outputs": [
    {
     "name": "stderr",
     "output_type": "stream",
     "text": [
      "/var/folders/wd/g8mvvv392p11yf16rzs6k9mr0000gn/T/ipykernel_68649/3218607630.py:3: DeprecationWarning: write_transaction has been renamed to execute_write\n",
      "  session.write_transaction(create_graph, news_df)\n"
     ]
    }
   ],
   "source": [
    "# Insert data into Neo4j\n",
    "with driver.session() as session:\n",
    "    session.write_transaction(create_graph, news_df)"
   ]
  },
  {
   "cell_type": "code",
   "execution_count": 6,
   "metadata": {},
   "outputs": [
    {
     "name": "stdout",
     "output_type": "stream",
     "text": [
      "Data successfully inserted into Neo4j.\n"
     ]
    }
   ],
   "source": [
    "print(\"Data successfully inserted into Neo4j.\")\n",
    "driver.close()"
   ]
  }
 ],
 "metadata": {
  "kernelspec": {
   "display_name": "Python 3.9.7 ('base')",
   "language": "python",
   "name": "python3"
  },
  "language_info": {
   "codemirror_mode": {
    "name": "ipython",
    "version": 3
   },
   "file_extension": ".py",
   "mimetype": "text/x-python",
   "name": "python",
   "nbconvert_exporter": "python",
   "pygments_lexer": "ipython3",
   "version": "3.9.7"
  },
  "orig_nbformat": 4,
  "vscode": {
   "interpreter": {
    "hash": "40d3a090f54c6569ab1632332b64b2c03c39dcf918b08424e98f38b5ae0af88f"
   }
  }
 },
 "nbformat": 4,
 "nbformat_minor": 2
}
